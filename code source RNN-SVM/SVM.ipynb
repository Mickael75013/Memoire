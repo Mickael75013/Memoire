{
  "nbformat": 4,
  "nbformat_minor": 0,
  "metadata": {
    "colab": {
      "provenance": []
    },
    "kernelspec": {
      "name": "python3",
      "display_name": "Python 3"
    },
    "language_info": {
      "name": "python"
    }
  },
  "cells": [
    {
      "cell_type": "code",
      "source": [
        "import pandas as pd\n",
        "import numpy as np\n",
        "from sklearn.model_selection import train_test_split\n",
        "from sklearn.svm import SVC\n",
        "from sklearn.metrics import classification_report, confusion_matrix, accuracy_score, roc_curve, auc\n",
        "import matplotlib.pyplot as plt\n"
      ],
      "metadata": {
        "id": "O2CzBvE9QizF"
      },
      "execution_count": 52,
      "outputs": []
    },
    {
      "cell_type": "markdown",
      "source": [],
      "metadata": {
        "id": "KkvuYpJAF2V_"
      }
    },
    {
      "cell_type": "code",
      "source": [
        "train_file_path = 'TrainDataset.csv'\n",
        "test_file_path = 'TestDataset.csv'\n",
        "\n",
        "# Charger les données d'entraînement\n",
        "train_data = pd.read_csv(train_file_path)\n",
        "# Charger les données de test\n",
        "test_data = pd.read_csv(test_file_path)\n",
        "\n",
        "# Séparer les caractéristiques (X) et les étiquettes (y) dans les données d'entraînement\n",
        "X_train = train_data.iloc[2:, 1:-1].values\n",
        "\n",
        "y_train = train_data.iloc[2:, -1].apply(lambda x: x.strip(\"'[]'\"))\n",
        "\n",
        "# Séparer les caractéristiques (X) et les étiquettes (y) dans les données de test\n",
        "X_test = test_data.iloc[2:, 1:-1].values\n",
        "y_test = test_data.iloc[2:, -1].apply(lambda x: x.strip(\"'[]'\"))\n",
        "\n",
        "print(X_train)\n",
        "print(y_train)\n",
        "print(X_test)\n",
        "print(y_test)"
      ],
      "metadata": {
        "colab": {
          "base_uri": "https://localhost:8080/"
        },
        "id": "YKYGeiOYRsfc",
        "outputId": "0d0f18c0-321d-421b-e27c-5582ae5d12da"
      },
      "execution_count": 54,
      "outputs": [
        {
          "output_type": "stream",
          "name": "stdout",
          "text": [
            "[[' 87.0' ' 120.0' ' 73.0' ... ' 127.0' ' 0.0' ' 98.0']\n",
            " [' 87.0' ' 120.0' ' 73.0' ... ' 126.0' ' 0.0' ' 98.0']\n",
            " [' 88.0' ' 121.0' ' 73.0' ... ' 126.0' ' 0.0' ' 98.0']\n",
            " ...\n",
            " [' 71.0' ' 96.0' ' 59.0' ... ' 128.0' ' 0.0' ' 88.0']\n",
            " [' 72.0' ' 97.0' ' 59.0' ... ' 128.0' ' 0.0' ' 88.0']\n",
            " [' 72.0' ' 98.0' ' 59.0' ... ' 128.0' ' 0.0' ' 88.0']]\n",
            "2          'Normal\n",
            "3          'Normal\n",
            "4          'Normal\n",
            "5          'Normal\n",
            "6          'Normal\n",
            "           ...    \n",
            "3512       'Normal\n",
            "3513     'Critical\n",
            "3514     'Critical\n",
            "3515     'Critical\n",
            "3516     'Critical\n",
            "Name: 'classe', Length: 3515, dtype: object\n",
            "[[ 78. 104.  65. ... 131.  11.  97.]\n",
            " [ 77. 104.  64. ... 131.  11.  97.]\n",
            " [ 77. 103.  64. ... 132.  11.  97.]\n",
            " ...\n",
            " [ 71.  96.  59. ... 128.   0.  88.]\n",
            " [ 72.  97.  59. ... 128.   0.  88.]\n",
            " [ 72.  98.  59. ... 128.   0.  88.]]\n",
            "2         'Normal\n",
            "3         'Normal\n",
            "4         'Normal\n",
            "5         'Normal\n",
            "6         'Normal\n",
            "          ...    \n",
            "698       'Normal\n",
            "699     'Critical\n",
            "700     'Critical\n",
            "701     'Critical\n",
            "702     'Critical\n",
            "Name:  'Normal'], Length: 701, dtype: object\n"
          ]
        }
      ]
    },
    {
      "cell_type": "code",
      "source": [
        "svm_model = SVC()\n",
        "svm_model.fit(X_train, y_train)"
      ],
      "metadata": {
        "id": "KqHMUyX7WDph",
        "colab": {
          "base_uri": "https://localhost:8080/",
          "height": 75
        },
        "outputId": "18ccd927-60e0-4a6c-b607-71e3620f4e8c"
      },
      "execution_count": 55,
      "outputs": [
        {
          "output_type": "execute_result",
          "data": {
            "text/plain": [
              "SVC()"
            ],
            "text/html": [
              "<style>#sk-container-id-3 {color: black;background-color: white;}#sk-container-id-3 pre{padding: 0;}#sk-container-id-3 div.sk-toggleable {background-color: white;}#sk-container-id-3 label.sk-toggleable__label {cursor: pointer;display: block;width: 100%;margin-bottom: 0;padding: 0.3em;box-sizing: border-box;text-align: center;}#sk-container-id-3 label.sk-toggleable__label-arrow:before {content: \"▸\";float: left;margin-right: 0.25em;color: #696969;}#sk-container-id-3 label.sk-toggleable__label-arrow:hover:before {color: black;}#sk-container-id-3 div.sk-estimator:hover label.sk-toggleable__label-arrow:before {color: black;}#sk-container-id-3 div.sk-toggleable__content {max-height: 0;max-width: 0;overflow: hidden;text-align: left;background-color: #f0f8ff;}#sk-container-id-3 div.sk-toggleable__content pre {margin: 0.2em;color: black;border-radius: 0.25em;background-color: #f0f8ff;}#sk-container-id-3 input.sk-toggleable__control:checked~div.sk-toggleable__content {max-height: 200px;max-width: 100%;overflow: auto;}#sk-container-id-3 input.sk-toggleable__control:checked~label.sk-toggleable__label-arrow:before {content: \"▾\";}#sk-container-id-3 div.sk-estimator input.sk-toggleable__control:checked~label.sk-toggleable__label {background-color: #d4ebff;}#sk-container-id-3 div.sk-label input.sk-toggleable__control:checked~label.sk-toggleable__label {background-color: #d4ebff;}#sk-container-id-3 input.sk-hidden--visually {border: 0;clip: rect(1px 1px 1px 1px);clip: rect(1px, 1px, 1px, 1px);height: 1px;margin: -1px;overflow: hidden;padding: 0;position: absolute;width: 1px;}#sk-container-id-3 div.sk-estimator {font-family: monospace;background-color: #f0f8ff;border: 1px dotted black;border-radius: 0.25em;box-sizing: border-box;margin-bottom: 0.5em;}#sk-container-id-3 div.sk-estimator:hover {background-color: #d4ebff;}#sk-container-id-3 div.sk-parallel-item::after {content: \"\";width: 100%;border-bottom: 1px solid gray;flex-grow: 1;}#sk-container-id-3 div.sk-label:hover label.sk-toggleable__label {background-color: #d4ebff;}#sk-container-id-3 div.sk-serial::before {content: \"\";position: absolute;border-left: 1px solid gray;box-sizing: border-box;top: 0;bottom: 0;left: 50%;z-index: 0;}#sk-container-id-3 div.sk-serial {display: flex;flex-direction: column;align-items: center;background-color: white;padding-right: 0.2em;padding-left: 0.2em;position: relative;}#sk-container-id-3 div.sk-item {position: relative;z-index: 1;}#sk-container-id-3 div.sk-parallel {display: flex;align-items: stretch;justify-content: center;background-color: white;position: relative;}#sk-container-id-3 div.sk-item::before, #sk-container-id-3 div.sk-parallel-item::before {content: \"\";position: absolute;border-left: 1px solid gray;box-sizing: border-box;top: 0;bottom: 0;left: 50%;z-index: -1;}#sk-container-id-3 div.sk-parallel-item {display: flex;flex-direction: column;z-index: 1;position: relative;background-color: white;}#sk-container-id-3 div.sk-parallel-item:first-child::after {align-self: flex-end;width: 50%;}#sk-container-id-3 div.sk-parallel-item:last-child::after {align-self: flex-start;width: 50%;}#sk-container-id-3 div.sk-parallel-item:only-child::after {width: 0;}#sk-container-id-3 div.sk-dashed-wrapped {border: 1px dashed gray;margin: 0 0.4em 0.5em 0.4em;box-sizing: border-box;padding-bottom: 0.4em;background-color: white;}#sk-container-id-3 div.sk-label label {font-family: monospace;font-weight: bold;display: inline-block;line-height: 1.2em;}#sk-container-id-3 div.sk-label-container {text-align: center;}#sk-container-id-3 div.sk-container {/* jupyter's `normalize.less` sets `[hidden] { display: none; }` but bootstrap.min.css set `[hidden] { display: none !important; }` so we also need the `!important` here to be able to override the default hidden behavior on the sphinx rendered scikit-learn.org. See: https://github.com/scikit-learn/scikit-learn/issues/21755 */display: inline-block !important;position: relative;}#sk-container-id-3 div.sk-text-repr-fallback {display: none;}</style><div id=\"sk-container-id-3\" class=\"sk-top-container\"><div class=\"sk-text-repr-fallback\"><pre>SVC()</pre><b>In a Jupyter environment, please rerun this cell to show the HTML representation or trust the notebook. <br />On GitHub, the HTML representation is unable to render, please try loading this page with nbviewer.org.</b></div><div class=\"sk-container\" hidden><div class=\"sk-item\"><div class=\"sk-estimator sk-toggleable\"><input class=\"sk-toggleable__control sk-hidden--visually\" id=\"sk-estimator-id-3\" type=\"checkbox\" checked><label for=\"sk-estimator-id-3\" class=\"sk-toggleable__label sk-toggleable__label-arrow\">SVC</label><div class=\"sk-toggleable__content\"><pre>SVC()</pre></div></div></div></div></div>"
            ]
          },
          "metadata": {},
          "execution_count": 55
        }
      ]
    },
    {
      "cell_type": "code",
      "source": [
        "y_pred = svm_model.predict(X_test)"
      ],
      "metadata": {
        "id": "krxkNkjOO-V-"
      },
      "execution_count": 56,
      "outputs": []
    },
    {
      "cell_type": "code",
      "source": [
        "from sklearn.preprocessing import LabelEncoder\n",
        "\n",
        "# Convertir les étiquettes en format numérique\n",
        "le = LabelEncoder()\n",
        "y_test_encoded = le.fit_transform(y_test)\n",
        "y_pred_encoded = le.transform(y_pred)\n",
        "\n",
        "# Calcul de la courbe ROC\n",
        "fpr, tpr, _ = roc_curve(y_test_encoded, y_pred_encoded)\n",
        "roc_auc = auc(fpr, tpr)"
      ],
      "metadata": {
        "id": "BiistATNP07k"
      },
      "execution_count": 57,
      "outputs": []
    },
    {
      "cell_type": "code",
      "source": [
        "from tabulate import tabulate\n",
        "from sklearn.metrics import classification_report, confusion_matrix, accuracy_score\n",
        "\n",
        "# Calcul du rapport de classification\n",
        "report = classification_report(y_test, y_pred)\n",
        "report_data = [row.split() for row in report.split('\\n')[2:-5]]\n",
        "headers = report.split('\\n')[0].split()\n",
        "\n",
        "# Calcul de la matrice de confusion\n",
        "confusion_mat = confusion_matrix(y_test, y_pred)\n",
        "\n",
        "# Calcul de l'exactitude\n",
        "accuracy = accuracy_score(y_test, y_pred)\n",
        "\n",
        "# Calcul du taux d'erreur\n",
        "error_rate = 1 - accuracy\n",
        "\n",
        "# Préparation des données pour le tableau\n",
        "results_table = [\n",
        "    [\"Accuracy\", \"{:.2f}\".format(accuracy)],\n",
        "    [\"Classification Report\", tabulate(report_data, headers=headers, tablefmt=\"fancy_grid\")],\n",
        "    [\"Confusion Matrix\", tabulate(confusion_mat, tablefmt=\"fancy_grid\")],\n",
        "    [\"Error Rate\", \"{:.2f}\".format(error_rate)]\n",
        "]\n",
        "\n",
        "# Affichage du tableau\n",
        "print(tabulate(results_table, headers=[\"Metric\", \"Value\"], tablefmt=\"fancy_grid\"))\n"
      ],
      "metadata": {
        "colab": {
          "base_uri": "https://localhost:8080/"
        },
        "id": "FF8yFlSiPDFF",
        "outputId": "03cd0517-cd4c-4864-a0fa-f12d13514e9e"
      },
      "execution_count": 58,
      "outputs": [
        {
          "output_type": "stream",
          "name": "stdout",
          "text": [
            "╒═══════════════════════╤═════════════════════════════════════════════════════════════════╕\n",
            "│ Metric                │ Value                                                           │\n",
            "╞═══════════════════════╪═════════════════════════════════════════════════════════════════╡\n",
            "│ Accuracy              │ 0.99                                                            │\n",
            "├───────────────────────┼─────────────────────────────────────────────────────────────────┤\n",
            "│ Classification Report │ ╒═══════════╤═════════════╤══════════╤════════════╤═══════════╕ │\n",
            "│                       │ │           │   precision │   recall │   f1-score │   support │ │\n",
            "│                       │ ╞═══════════╪═════════════╪══════════╪════════════╪═══════════╡ │\n",
            "│                       │ │ 'Critical │        1    │     0.71 │       0.83 │        14 │ │\n",
            "│                       │ ├───────────┼─────────────┼──────────┼────────────┼───────────┤ │\n",
            "│                       │ │ 'Normal   │        0.99 │     1    │       1    │       687 │ │\n",
            "│                       │ ╘═══════════╧═════════════╧══════════╧════════════╧═══════════╛ │\n",
            "├───────────────────────┼─────────────────────────────────────────────────────────────────┤\n",
            "│ Confusion Matrix      │ ╒════╤═════╕                                                    │\n",
            "│                       │ │ 10 │   4 │                                                    │\n",
            "│                       │ ├────┼─────┤                                                    │\n",
            "│                       │ │  0 │ 687 │                                                    │\n",
            "│                       │ ╘════╧═════╛                                                    │\n",
            "├───────────────────────┼─────────────────────────────────────────────────────────────────┤\n",
            "│ Error Rate            │ 0.01                                                            │\n",
            "╘═══════════════════════╧═════════════════════════════════════════════════════════════════╛\n"
          ]
        }
      ]
    },
    {
      "cell_type": "markdown",
      "source": [
        "# Nouvelle section"
      ],
      "metadata": {
        "id": "J0sYMhU9J_o2"
      }
    },
    {
      "cell_type": "code",
      "source": [
        "# Affichage des résultats\n",
        "print(\"Accuracy: {:.2f}\".format(accuracy))\n",
        "print(\"Classification Report:\\n\", classification_report)\n",
        "print(\"Confusion Matrix:\\n\", confusion_mat)\n",
        "print(\"Error Rate: {:.2f}\".format(error_rate))\n"
      ],
      "metadata": {
        "colab": {
          "base_uri": "https://localhost:8080/"
        },
        "id": "Fs6l2zElPK1h",
        "outputId": "e9eaeae4-a952-4e86-d78d-7bfeaca8f19f"
      },
      "execution_count": 60,
      "outputs": [
        {
          "output_type": "stream",
          "name": "stdout",
          "text": [
            "Accuracy: 0.99\n",
            "Classification Report:\n",
            " <function classification_report at 0x7fa534dc63b0>\n",
            "Confusion Matrix:\n",
            " [[ 10   4]\n",
            " [  0 687]]\n",
            "Error Rate: 0.01\n"
          ]
        }
      ]
    },
    {
      "cell_type": "code",
      "source": [],
      "metadata": {
        "id": "tqPf8FefTwDA"
      },
      "execution_count": null,
      "outputs": []
    },
    {
      "cell_type": "code",
      "source": [
        "# Tracer la courbe ROC\n",
        "plt.plot(fpr, tpr, label='ROC curve (area = %0.2f)' % roc_auc)\n",
        "plt.plot([0, 1], [0, 1], 'k--')\n",
        "plt.xlim([0.0, 1.0])\n",
        "plt.ylim([0.0, 1.05])\n",
        "plt.xlabel('False Positive Rate')\n",
        "plt.ylabel('True Positive Rate')\n",
        "plt.title('Receiver Operating Characteristic (ROC)')\n",
        "plt.legend(loc=\"lower right\")\n",
        "plt.show()"
      ],
      "metadata": {
        "colab": {
          "base_uri": "https://localhost:8080/",
          "height": 472
        },
        "id": "epCAlUIWPLBi",
        "outputId": "ee0cdd3b-906e-4080-82b5-f8fa645ec162"
      },
      "execution_count": 61,
      "outputs": [
        {
          "output_type": "display_data",
          "data": {
            "text/plain": [
              "<Figure size 640x480 with 1 Axes>"
            ],
            "image/png": "[encoded data removed]"
          },
          "metadata": {}
        }
      ]
    },
    {
      "cell_type": "code",
      "source": [],
      "metadata": {
        "id": "ETaDI0_qPLJq"
      },
      "execution_count": null,
      "outputs": []
    },
    {
      "cell_type": "code",
      "source": [],
      "metadata": {
        "id": "1UOu6oYJPLSM"
      },
      "execution_count": null,
      "outputs": []
    }
  ]
}